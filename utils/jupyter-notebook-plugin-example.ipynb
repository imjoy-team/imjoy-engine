{
 "cells": [
  {
   "cell_type": "markdown",
   "metadata": {},
   "source": [
    "# Run ImJoy in Jupyter Notebook"
   ]
  },
  {
   "cell_type": "markdown",
   "metadata": {},
   "source": [
    "## Install ImJoy-Engine\n",
    "\n",
    "More details: https://github.com/oeway/ImJoy-engine"
   ]
  },
  {
   "cell_type": "code",
   "execution_count": null,
   "metadata": {},
   "outputs": [],
   "source": [
    "%pip install -U imjoy"
   ]
  },
  {
   "cell_type": "markdown",
   "metadata": {},
   "source": [
    "## start a Jupyter Client for ImJoy"
   ]
  },
  {
   "cell_type": "code",
   "execution_count": 4,
   "metadata": {
    "scrolled": false
   },
   "outputs": [
    {
     "data": {
      "text/html": [
       "\n",
       "    <style>\n",
       "    .card {\n",
       "        background: #fff;\n",
       "        border-radius: 2px;\n",
       "        display: inline-block;\n",
       "        height: 550px;\n",
       "        margin: 1rem;\n",
       "        position: relative;\n",
       "        width: 98%;\n",
       "        border-radius: 4px;\n",
       "    }\n",
       "    .card-1 {\n",
       "        box-shadow: 0 1px 2px rgba(0,0,0,0.12), 0 1px 2px rgba(0,0,0,0.24);\n",
       "        transition: all 0.3s cubic-bezier(.25,.8,.25,1);\n",
       "    }\n",
       "    .card-1:hover {\n",
       "        box-shadow: 0 6px 10px rgba(0,0,0,0.25), 0 3px 3px rgba(0,0,0,0.22);\n",
       "    }\n",
       "    </style>\n",
       "    <iframe id=\"iframe_4418bc59-43ba-41f1-a23d-1a687beeabc7\" onload=\"setup_imjoy_bridge()\" src=\"https://imjoy.io/#/app?jupyter_plugin=Jupyter Notebook Plugin&workspace=notebook\" class=\"card card-1\" frameborder=\"0\" width=\"100%\" height=\"650\" style=\"max-width: 100%;\"></iframe>\n",
       "    <script type=\"text/Javascript\">\n",
       "    (function(){\n",
       "        class PostMessageIO{\n",
       "            constructor(iframeEl){\n",
       "                this.plugins = {}\n",
       "                this._callbacks = {}\n",
       "                this.iframeEl = iframeEl\n",
       "                window.addEventListener(\n",
       "                    \"message\",\n",
       "                    (e)=>{\n",
       "                        if(e.data.pio_connect){\n",
       "                            if(this._callbacks['connect']){\n",
       "                                for(let cb of this._callbacks['connect']){ \n",
       "                                    try{\n",
       "                                        cb()\n",
       "                                    }\n",
       "                                    catch(e){\n",
       "                                        console.error(e)\n",
       "                                    }\n",
       "                                }\n",
       "                            }\n",
       "                        }\n",
       "                        else if(e.data.pio_disconnect){\n",
       "                            if(this._callbacks['disconnect']){\n",
       "                                for(let cb of this._callbacks['disconnect']){ \n",
       "                                    try{\n",
       "                                        cb()\n",
       "                                    }\n",
       "                                    catch(e){\n",
       "                                        console.error(e)\n",
       "                                    }\n",
       "                                }\n",
       "                            }\n",
       "                        }\n",
       "                        else{\n",
       "                            if (iframeEl && iframeEl.contentWindow && e.source === iframeEl.contentWindow) {\n",
       "                                if(e.data.channel && this._callbacks[e.data.channel]){\n",
       "                                    for(let cb of this._callbacks[e.data.channel]){\n",
       "                                        try{\n",
       "                                            cb(e.data)\n",
       "                                        }\n",
       "                                        catch(e){\n",
       "                                            console.error(e)\n",
       "                                        }\n",
       "                                    }\n",
       "                                }\n",
       "                            }\n",
       "                        }\n",
       "                    },\n",
       "                    false\n",
       "                );\n",
       "            }\n",
       "            \n",
       "            emit(channel, data, transferables) {\n",
       "                data.channel = channel\n",
       "                this.iframeEl.contentWindow.postMessage(\n",
       "                    data,\n",
       "                    \"*\",\n",
       "                    transferables\n",
       "                );\n",
       "            }\n",
       "\n",
       "            on(channel, callback){\n",
       "                if(this._callbacks[channel]){\n",
       "                    this._callbacks[channel].push(callback)\n",
       "                }\n",
       "                else{\n",
       "                    this._callbacks[channel] = [callback]\n",
       "                }\n",
       "            }\n",
       "            \n",
       "            off(channel, callback){\n",
       "                if(this._callbacks[channel]){\n",
       "                    for( var i = 0; i < this._callbacks[channel].length; i++){ \n",
       "                        if ( this._callbacks[channel][i] === callback) {\n",
       "                            this._callbacks[channel].splice(i, 1); \n",
       "                        }\n",
       "                    }\n",
       "                }\n",
       "            }\n",
       "        }\n",
       "        window.PostMessageIO = PostMessageIO;\n",
       "    })()\n",
       "\n",
       "    function setup_imjoy_bridge(){\n",
       "        var kernel = IPython.notebook.kernel;\n",
       "        command = 'from imjoy.workers.jupyter_client import JupyterClient;JupyterClient.recover_client(\"4418bc59-43ba-41f1-a23d-1a687beeabc7\")';\n",
       "        kernel.execute(command);\n",
       "        console.log(command)\n",
       "\n",
       "        const iframeEl = document.getElementById('iframe_4418bc59-43ba-41f1-a23d-1a687beeabc7')\n",
       "        const pio = new PostMessageIO(iframeEl);\n",
       "        let _connected_comm = null;\n",
       "        function add_plugin(plugin, _connected_comm){\n",
       "            const id = plugin.id\n",
       "            pio.on(\"message_to_plugin_\" + id, (data)=>{\n",
       "                _connected_comm.send(data.data);\n",
       "            })\n",
       "            _connected_comm.on_msg((msg) => {\n",
       "                var data = msg.content.data\n",
       "                if ([\"initialized\",\n",
       "                    \"importSuccess\",\n",
       "                    \"importFailure\",\n",
       "                    \"executeSuccess\",\n",
       "                    \"executeFailure\"\n",
       "                    ].includes(data.type)) {\n",
       "                    pio.emit(\"message_from_plugin_\" + id, data);\n",
       "                } else {\n",
       "                    pio.emit(\"message_from_plugin_\" + id, { type: 'message', data: data });\n",
       "                }\n",
       "                \n",
       "            })\n",
       "        }\n",
       "        Jupyter.notebook.kernel.comm_manager.register_target(\n",
       "            'imjoy_comm_4418bc59-43ba-41f1-a23d-1a687beeabc7',\n",
       "            function (comm, open_msg) {\n",
       "                _connected_comm = comm;\n",
       "                for(let k in pio.plugins){\n",
       "                    add_plugin(pio.plugins[k], _connected_comm)\n",
       "                }\n",
       "                //var config = open_msg.content.data\n",
       "                //pio.emit(\"message_from_plugin_\" + id, {'type': 'init_plugin', 'id': config.id, 'config': config});\n",
       "            }\n",
       "        )\n",
       "\n",
       "        pio.on('connect', ()=>{\n",
       "            console.log('pio connected.')\n",
       "        })\n",
       "\n",
       "        pio.on('init_plugin', (plugin_config)=>{\n",
       "            //id, type, config\n",
       "            pio.plugins[plugin_config.id] = plugin_config\n",
       "            if(_connected_comm){\n",
       "                add_plugin(plugin_config, _connected_comm)\n",
       "            }\n",
       "\n",
       "            var kernel = IPython.notebook.kernel;\n",
       "            command = 'from imjoy.workers.python_worker import PluginConnection as __plugin_connection__;__plugin_connection__.add_plugin(\"'+plugin_config.id+'\", \"4418bc59-43ba-41f1-a23d-1a687beeabc7\").start()';\n",
       "            kernel.execute(command);\n",
       "        });\n",
       "    }\n",
       "    </script>\n",
       "    "
      ],
      "text/plain": [
       "<IPython.core.display.HTML object>"
      ]
     },
     "execution_count": 4,
     "metadata": {},
     "output_type": "execute_result"
    }
   ],
   "source": [
    "from imjoy.workers.jupyter_client import JupyterClient\n",
    "client = JupyterClient()\n",
    "client.start(name=\"Jupyter Notebook Plugin\", workspace=\"notebook\")"
   ]
  },
  {
   "cell_type": "markdown",
   "metadata": {},
   "source": [
    "## Debugging plugin code\n",
    "You can modify the code below, run it and try it immediately in the above ImJoy interface."
   ]
  },
  {
   "cell_type": "code",
   "execution_count": 14,
   "metadata": {},
   "outputs": [],
   "source": [
    "from imjoy import api\n",
    "\n",
    "def setup(*args):\n",
    "    pass\n",
    "    \n",
    "def run(*args):\n",
    "    api.alert('hello world')\n",
    "\n",
    "api.export({'run': run, 'setup': setup})"
   ]
  },
  {
   "cell_type": "code",
   "execution_count": null,
   "metadata": {},
   "outputs": [],
   "source": []
  }
 ],
 "metadata": {
  "kernelspec": {
   "display_name": "Python 3",
   "language": "python",
   "name": "python3"
  },
  "language_info": {
   "codemirror_mode": {
    "name": "ipython",
    "version": 3
   },
   "file_extension": ".py",
   "mimetype": "text/x-python",
   "name": "python",
   "nbconvert_exporter": "python",
   "pygments_lexer": "ipython3",
   "version": "3.7.1"
  }
 },
 "nbformat": 4,
 "nbformat_minor": 2
}
